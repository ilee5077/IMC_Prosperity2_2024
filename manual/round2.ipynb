{
 "cells": [
  {
   "cell_type": "markdown",
   "metadata": {},
   "source": [
    "### Problem Statement"
   ]
  },
  {
   "cell_type": "markdown",
   "metadata": {},
   "source": [
    "You get the chance to do a series of trades in some foreign island currencies. The first trade is a conversion of your SeaShells into a foreign currency, the last trade is a conversion from a foreign currency into SeaShells. Everything in between is up to you. Give some thought to what series of trades you would like to do, as there might be an opportunity to walk away with more shells than you arrived with.\n",
    "\n",
    "The number of trades is limited to 5. You must begin your first trade and end your last trade with our own currency; SeaShells."
   ]
  },
  {
   "cell_type": "markdown",
   "metadata": {},
   "source": [
    " ![alt text](tradinground2.png \"Title\")"
   ]
  },
  {
   "cell_type": "code",
   "execution_count": 9,
   "metadata": {},
   "outputs": [
    {
     "data": {
      "text/plain": [
       "'301303'"
      ]
     },
     "execution_count": 9,
     "metadata": {},
     "output_type": "execute_result"
    }
   ],
   "source": [
    "conversion_table = {}\n",
    "\n",
    "# 0 = pizza, 1 = Wasabi, 2 = snowball, 3 = seashell\n",
    "conversion_table[0] = [1.00,    0.48,   1.52,   0.71]\n",
    "conversion_table[1] = [2.05,    1.00,   3.26,   1.56]\n",
    "conversion_table[2] = [0.64,    0.30,   1.00,   0.46]\n",
    "conversion_table[3] = [1.41,    0.61,   2.08,   1.00]\n",
    "\n",
    "result = {}\n",
    "# simulate all possible sequences of 5 trades\n",
    "for i in range(4):\n",
    "    for j in range(4):\n",
    "        for k in range(4):\n",
    "            for l in range(4):\n",
    "                for m in range(4):\n",
    "                    for n in range(4):\n",
    "                        if i == 3 and n == 3:\n",
    "                            conversion = conversion_table[i][j] * conversion_table[j][k] * conversion_table[k][l] * conversion_table[l][m] * conversion_table[m][n]\n",
    "                            result[str(i)+str(j)+str(k)+str(l)+str(m)+str(n)] = conversion\n",
    "\n",
    "\n",
    "max(result, key=result.get)\n",
    "# optimal sequence 301303 is equivalent to Seashell -> Pizza -> Wasabi -> Seashell -> Pizza -> Seashell\n"
   ]
  },
  {
   "cell_type": "markdown",
   "metadata": {},
   "source": [
    "### Results"
   ]
  },
  {
   "cell_type": "markdown",
   "metadata": {},
   "source": [
    "the optimal trading sequence for round 2 was fully predictable through brute force search"
   ]
  },
  {
   "cell_type": "markdown",
   "metadata": {},
   "source": [
    " ![alt text](round2.png \"Title\")"
   ]
  }
 ],
 "metadata": {
  "kernelspec": {
   "display_name": "Python 3",
   "language": "python",
   "name": "python3"
  },
  "language_info": {
   "codemirror_mode": {
    "name": "ipython",
    "version": 3
   },
   "file_extension": ".py",
   "mimetype": "text/x-python",
   "name": "python",
   "nbconvert_exporter": "python",
   "pygments_lexer": "ipython3",
   "version": "3.12.2"
  }
 },
 "nbformat": 4,
 "nbformat_minor": 2
}
